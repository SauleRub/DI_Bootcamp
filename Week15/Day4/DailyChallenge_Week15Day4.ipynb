{
  "nbformat": 4,
  "nbformat_minor": 0,
  "metadata": {
    "colab": {
      "provenance": [],
      "authorship_tag": "ABX9TyPDmdXwliTxXfKmOyA6L1pZ",
      "include_colab_link": true
    },
    "kernelspec": {
      "name": "python3",
      "display_name": "Python 3"
    },
    "language_info": {
      "name": "python"
    }
  },
  "cells": [
    {
      "cell_type": "markdown",
      "metadata": {
        "id": "view-in-github",
        "colab_type": "text"
      },
      "source": [
        "<a href=\"https://colab.research.google.com/github/SauleRub/DI_Bootcamp/blob/main/Week15/Day4/DailyChallenge_Week15Day4.ipynb\" target=\"_parent\"><img src=\"https://colab.research.google.com/assets/colab-badge.svg\" alt=\"Open In Colab\"/></a>"
      ]
    },
    {
      "cell_type": "markdown",
      "source": [
        "Calculate the Required Sample Size:"
      ],
      "metadata": {
        "id": "B3knkAUxX49A"
      }
    },
    {
      "cell_type": "code",
      "execution_count": 1,
      "metadata": {
        "colab": {
          "base_uri": "https://localhost:8080/"
        },
        "id": "vFij9-PCXhk_",
        "outputId": "2bf74b2b-c2d7-4abe-dda8-2ea754f44835"
      },
      "outputs": [
        {
          "output_type": "execute_result",
          "data": {
            "text/plain": [
              "392.4430232577885"
            ]
          },
          "metadata": {},
          "execution_count": 1
        }
      ],
      "source": [
        "# Re-import needed module after code execution environment was reset\n",
        "from statsmodels.stats.power import NormalIndPower\n",
        "\n",
        "# Initialize power analysis object\n",
        "analysis = NormalIndPower()\n",
        "\n",
        "# Parameters for sample size calculation\n",
        "effect_size = 0.2   # Cohen's h for increase from 5% to 7%\n",
        "alpha = 0.05        # Significance level\n",
        "power = 0.8         # Desired power\n",
        "\n",
        "# Calculate required sample size per group\n",
        "sample_size = analysis.solve_power(effect_size=effect_size, power=power, alpha=alpha, ratio=1, alternative='two-sided')\n",
        "\n",
        "sample_size"
      ]
    },
    {
      "cell_type": "markdown",
      "source": [
        "Analyze the Impact of Effect Size:"
      ],
      "metadata": {
        "id": "9GBlzFvyX9Qn"
      }
    },
    {
      "cell_type": "code",
      "source": [
        "# List of effect sizes to analyze\n",
        "effect_sizes = [0.1, 0.2, 0.3, 0.4]\n",
        "sample_sizes = []\n",
        "\n",
        "# Calculate required sample size for each effect size\n",
        "for es in effect_sizes:\n",
        "    ss = analysis.solve_power(effect_size=es, power=power, alpha=alpha, ratio=1, alternative='two-sided')\n",
        "    sample_sizes.append(round(ss))\n",
        "\n",
        "# Print the results\n",
        "for es, ss in zip(effect_sizes, sample_sizes):\n",
        "    print(f\"Effect size {es} → Required sample size per group: {ss}\")"
      ],
      "metadata": {
        "colab": {
          "base_uri": "https://localhost:8080/"
        },
        "id": "Kig5jhTAX-iJ",
        "outputId": "d3fb0053-302f-45a6-94bc-ca4be82dde91"
      },
      "execution_count": 2,
      "outputs": [
        {
          "output_type": "stream",
          "name": "stdout",
          "text": [
            "Effect size 0.1 → Required sample size per group: 1570\n",
            "Effect size 0.2 → Required sample size per group: 392\n",
            "Effect size 0.3 → Required sample size per group: 174\n",
            "Effect size 0.4 → Required sample size per group: 98\n"
          ]
        }
      ]
    },
    {
      "cell_type": "markdown",
      "source": [
        "📚 Explanation (for the bakery team):\n",
        "\n",
        "Imagine trying to detect a small difference in cookie taste (like 5.01 vs. 5.02 stars). You’d need to let lots of customers try both to even notice it.\n",
        "\n",
        "That’s why:\n",
        "\t•\tSmaller effects → more people needed to detect a difference.\n",
        "\t•\tLarger effects → easier to detect, so fewer people are needed.\n",
        "\n",
        "Think of it like spotting a sprinkle vs. a whole cherry on top — tiny changes require more careful tasting (aka larger sample), but big ones are obvious quickly.\n",
        "\n"
      ],
      "metadata": {
        "id": "FZbcGgODYSVD"
      }
    },
    {
      "cell_type": "markdown",
      "source": [
        "Explain the Relationship:\n",
        "\n",
        "🧁✨ Sweet Bytes: Power Up Your A/B Testing – Team Summary\n",
        "\n",
        "Hey Team! 🎉\n",
        "\n",
        "Before we roll out our brand new checkout process, we ran the numbers to make sure we’re making a smart, data-driven decision (because baking up sweet sales deserves precision!).\n",
        "\n",
        "Here’s what we found:\n",
        "\n",
        "\n",
        "---\n",
        "\n",
        "\n",
        "\n",
        "🍪 How many tasters (aka users) do we need?\n",
        "\n",
        "We expect our new checkout to boost conversion from 5% to 7% — that’s a small but sweet effect 🍰.\n",
        "To detect this with 80% certainty (so we’re not just guessing), we need about 392 users per group — one group for the current checkout and one for the new one.\n",
        "\n",
        "\n",
        "\n",
        "---\n",
        "\n",
        "🧠 The smaller the change, the more users we need to tell whether it’s real or just a fluke.\n",
        "Think of it like tasting a pinch of cinnamon vs. a burst of chocolate. Big changes stand out fast — small ones need more samples.\n",
        "\n",
        "\n",
        "---\n",
        "\n",
        "💡 Why this matters\n",
        "\n",
        "Understanding this balance helps us:\n",
        "\t•\tAvoid wasting time testing tiny changes with too few users\n",
        "\t•\tAvoid missing big opportunities by stopping too soon\n",
        "\t•\tSave money by testing smartly and confidently\n",
        "\n",
        "Now we’re ready to bake decisions backed by real dough (data)!\n",
        "Let’s launch our checkout test the right way. 🛒🍩📈"
      ],
      "metadata": {
        "id": "-7IrVpYtYsrh"
      }
    }
  ]
}