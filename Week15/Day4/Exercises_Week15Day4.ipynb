{
  "nbformat": 4,
  "nbformat_minor": 0,
  "metadata": {
    "colab": {
      "provenance": [],
      "authorship_tag": "ABX9TyMCgYEUR/ivxTFFYNjnUerr",
      "include_colab_link": true
    },
    "kernelspec": {
      "name": "python3",
      "display_name": "Python 3"
    },
    "language_info": {
      "name": "python"
    }
  },
  "cells": [
    {
      "cell_type": "markdown",
      "metadata": {
        "id": "view-in-github",
        "colab_type": "text"
      },
      "source": [
        "<a href=\"https://colab.research.google.com/github/SauleRub/DI_Bootcamp/blob/main/Week15/Day4/Exercises_Week15Day4.ipynb\" target=\"_parent\"><img src=\"https://colab.research.google.com/assets/colab-badge.svg\" alt=\"Open In Colab\"/></a>"
      ]
    },
    {
      "cell_type": "markdown",
      "source": [
        "🌟 Exercise 1: Calculating Required Sample Size"
      ],
      "metadata": {
        "id": "pnmpUDwjTN_R"
      }
    },
    {
      "cell_type": "code",
      "execution_count": 1,
      "metadata": {
        "colab": {
          "base_uri": "https://localhost:8080/"
        },
        "id": "XdHpewEkTHkJ",
        "outputId": "904110ed-2160-4cca-c577-642f6abff794"
      },
      "outputs": [
        {
          "output_type": "stream",
          "name": "stdout",
          "text": [
            "Requirement already satisfied: statsmodels in /usr/local/lib/python3.11/dist-packages (0.14.4)\n",
            "Requirement already satisfied: numpy<3,>=1.22.3 in /usr/local/lib/python3.11/dist-packages (from statsmodels) (2.0.2)\n",
            "Requirement already satisfied: scipy!=1.9.2,>=1.8 in /usr/local/lib/python3.11/dist-packages (from statsmodels) (1.15.3)\n",
            "Requirement already satisfied: pandas!=2.1.0,>=1.4 in /usr/local/lib/python3.11/dist-packages (from statsmodels) (2.2.2)\n",
            "Requirement already satisfied: patsy>=0.5.6 in /usr/local/lib/python3.11/dist-packages (from statsmodels) (1.0.1)\n",
            "Requirement already satisfied: packaging>=21.3 in /usr/local/lib/python3.11/dist-packages (from statsmodels) (24.2)\n",
            "Requirement already satisfied: python-dateutil>=2.8.2 in /usr/local/lib/python3.11/dist-packages (from pandas!=2.1.0,>=1.4->statsmodels) (2.9.0.post0)\n",
            "Requirement already satisfied: pytz>=2020.1 in /usr/local/lib/python3.11/dist-packages (from pandas!=2.1.0,>=1.4->statsmodels) (2025.2)\n",
            "Requirement already satisfied: tzdata>=2022.7 in /usr/local/lib/python3.11/dist-packages (from pandas!=2.1.0,>=1.4->statsmodels) (2025.2)\n",
            "Requirement already satisfied: six>=1.5 in /usr/local/lib/python3.11/dist-packages (from python-dateutil>=2.8.2->pandas!=2.1.0,>=1.4->statsmodels) (1.17.0)\n"
          ]
        }
      ],
      "source": [
        "!pip install statsmodels\n",
        "\n",
        "from statsmodels.stats.power import NormalIndPower"
      ]
    },
    {
      "cell_type": "code",
      "source": [
        "# Initialize the power analysis object\n",
        "analysis = NormalIndPower()\n",
        "\n",
        "# Parameters\n",
        "effect_size = 0.3    # Cohen's h\n",
        "alpha = 0.05         # Significance level\n",
        "power = 0.8          # Desired power"
      ],
      "metadata": {
        "id": "aBUaakwgUQdD"
      },
      "execution_count": 2,
      "outputs": []
    },
    {
      "cell_type": "code",
      "source": [
        "sample_size = analysis.solve_power(effect_size=effect_size, power=power, alpha=alpha, ratio=1, alternative='two-sided')\n",
        "print(f\"Required sample size per group: {round(sample_size)}\")"
      ],
      "metadata": {
        "colab": {
          "base_uri": "https://localhost:8080/"
        },
        "id": "cT8RgvaNUScG",
        "outputId": "93c6e8d9-1284-46ca-c64d-2a64a8ef2a5c"
      },
      "execution_count": 3,
      "outputs": [
        {
          "output_type": "stream",
          "name": "stdout",
          "text": [
            "Required sample size per group: 174\n"
          ]
        }
      ]
    },
    {
      "cell_type": "markdown",
      "source": [
        "🌟 Exercise 2: Effect Size vs Sample Size"
      ],
      "metadata": {
        "id": "V9qf1bPYUZWD"
      }
    },
    {
      "cell_type": "code",
      "source": [
        "effect_sizes = [0.2, 0.4, 0.5]\n",
        "sample_sizes = []\n",
        "\n",
        "for es in effect_sizes:\n",
        "    ss = analysis.solve_power(effect_size=es, power=power, alpha=alpha, ratio=1, alternative='two-sided')\n",
        "    sample_sizes.append(round(ss))\n",
        "\n",
        "for es, ss in zip(effect_sizes, sample_sizes):\n",
        "    print(f\"Effect size {es} → Required sample size per group: {ss}\")"
      ],
      "metadata": {
        "colab": {
          "base_uri": "https://localhost:8080/"
        },
        "id": "kpOmvakvUaAk",
        "outputId": "7835d464-4907-4479-80e0-fc55927b5f22"
      },
      "execution_count": 4,
      "outputs": [
        {
          "output_type": "stream",
          "name": "stdout",
          "text": [
            "Effect size 0.2 → Required sample size per group: 392\n",
            "Effect size 0.4 → Required sample size per group: 98\n",
            "Effect size 0.5 → Required sample size per group: 63\n"
          ]
        }
      ]
    },
    {
      "cell_type": "markdown",
      "source": [
        "🎓 Conclusion:\n",
        "\t•\tAs the effect size increases, the required sample size decreases.\n",
        "\t•\tWhy?\n",
        "A larger effect is easier to detect, so you need fewer participants to distinguish it from random noise. Conversely, detecting a small effect requires more data to overcome natural variation and achieve statistical significance."
      ],
      "metadata": {
        "id": "jYNkpwDvUnFf"
      }
    },
    {
      "cell_type": "markdown",
      "source": [
        "🌟 Exercise 3: Exploring the Impact of Statistical Power"
      ],
      "metadata": {
        "id": "jSxyoq0gU1Vx"
      }
    },
    {
      "cell_type": "code",
      "source": [
        "# Define the power levels to test\n",
        "power_levels = [0.7, 0.8, 0.9]\n",
        "effect_size = 0.2\n",
        "sample_sizes = []\n",
        "\n",
        "for p in power_levels:\n",
        "    ss = analysis.solve_power(effect_size=effect_size, power=p, alpha=alpha, ratio=1, alternative='two-sided')\n",
        "    sample_sizes.append(round(ss))\n",
        "\n",
        "# Print results\n",
        "for p, ss in zip(power_levels, sample_sizes):\n",
        "    print(f\"Power {p} → Required sample size per group: {ss}\")"
      ],
      "metadata": {
        "colab": {
          "base_uri": "https://localhost:8080/"
        },
        "id": "gnrXDsbHUoE9",
        "outputId": "0a8fa683-bb58-4c1a-8e18-d2048d802cff"
      },
      "execution_count": 5,
      "outputs": [
        {
          "output_type": "stream",
          "name": "stdout",
          "text": [
            "Power 0.7 → Required sample size per group: 309\n",
            "Power 0.8 → Required sample size per group: 392\n",
            "Power 0.9 → Required sample size per group: 525\n"
          ]
        }
      ]
    },
    {
      "cell_type": "markdown",
      "source": [
        "📘 Conclusion:\n",
        "\t•\tHigher power ⇒ Larger sample size\n",
        "\t•\tThis happens because higher power means a lower chance of false negatives (Type II error), so:\n",
        "\t•\tYou need more participants to be confident that you’ll detect the true effect.\n",
        "\t•\tA good rule:\n",
        "\t•\tPower = 0.8 (80%) is standard.\n",
        "\t•\tPower > 0.9 is used in critical experiments (e.g. medicine)."
      ],
      "metadata": {
        "id": "uI93g35gU76I"
      }
    },
    {
      "cell_type": "markdown",
      "source": [
        "🌟 Exercise 4: Implementing Sequential Testing"
      ],
      "metadata": {
        "id": "IJGR5zHfVB35"
      }
    },
    {
      "cell_type": "markdown",
      "source": [
        "**Stopping criteria:**\n",
        "\n",
        "🔁 Weekly monitoring\n",
        "🛑 Stop early **if p-value < 0.01** in any week (stricter threshold than usual 0.05)\n",
        "✔️ This helps avoid false positives due to repeated testing"
      ],
      "metadata": {
        "id": "ozYtfOdhVUOp"
      }
    },
    {
      "cell_type": "code",
      "source": [
        "from scipy.stats import ttest_ind\n",
        "\n",
        "# Example: simulated weekly p-values (replace with real data)\n",
        "weekly_p_values = [0.12, 0.07, 0.02]\n",
        "\n",
        "for week, p in enumerate(weekly_p_values, start=1):\n",
        "    print(f\"Week {week} → p-value: {p}\")\n",
        "    if p < 0.01:\n",
        "        print(\"🛑 Stop the test early! Statistically significant difference detected.\")\n",
        "        break\n",
        "else:\n",
        "    print(\"📊 Continue test. No early stopping condition met.\")"
      ],
      "metadata": {
        "colab": {
          "base_uri": "https://localhost:8080/"
        },
        "id": "nEvJ3tHiVRMv",
        "outputId": "77503e9f-422e-411d-96f5-a0ae99579169"
      },
      "execution_count": 6,
      "outputs": [
        {
          "output_type": "stream",
          "name": "stdout",
          "text": [
            "Week 1 → p-value: 0.12\n",
            "Week 2 → p-value: 0.07\n",
            "Week 3 → p-value: 0.02\n",
            "📊 Continue test. No early stopping condition met.\n"
          ]
        }
      ]
    },
    {
      "cell_type": "markdown",
      "source": [
        "At week 3, the p-value is 0.02. Since our early stopping threshold is 0.01 to avoid Type I error from repeated tests, we should NOT stop the test yet. The test should continue until we meet the stricter early stopping condition or reach the planned test duration."
      ],
      "metadata": {
        "id": "qUvzOFgAVn60"
      }
    },
    {
      "cell_type": "markdown",
      "source": [
        "🌟 Exercise 5: Applying Bayesian A/B Testing"
      ],
      "metadata": {
        "id": "AA-FyoKhVxya"
      }
    },
    {
      "cell_type": "markdown",
      "source": [
        "🎯 Prior: 50% chance the new feature is better (neutral prior)."
      ],
      "metadata": {
        "id": "giwXTlXkV9_H"
      }
    },
    {
      "cell_type": "code",
      "source": [
        "from scipy.stats import beta\n",
        "import matplotlib.pyplot as plt\n",
        "import numpy as np\n",
        "\n",
        "# Prior: Beta(1, 1) → uniform (no bias)\n",
        "a_prior, b_prior = 1, 1\n",
        "\n",
        "x = np.linspace(0, 1, 100)\n",
        "plt.plot(x, beta.pdf(x, a_prior, b_prior), label='Prior', color='gray')\n",
        "plt.title(\"Prior Belief: Feature Benefit Probability\")\n",
        "plt.xlabel(\"Probability new feature is better\")\n",
        "plt.ylabel(\"Density\")\n",
        "plt.legend()\n",
        "plt.show()"
      ],
      "metadata": {
        "colab": {
          "base_uri": "https://localhost:8080/",
          "height": 472
        },
        "id": "FGWUU95lV_CG",
        "outputId": "4b22248f-0765-45af-d869-c9ede87913ce"
      },
      "execution_count": 7,
      "outputs": [
        {
          "output_type": "display_data",
          "data": {
            "text/plain": [
              "<Figure size 640x480 with 1 Axes>"
            ],
            "image/png": "[encoded data removed]"
          },
          "metadata": {}
        }
      ]
    },
    {
      "cell_type": "code",
      "source": [
        "# Update with data: 65 successes, 35 failures\n",
        "a_post = a_prior + 65\n",
        "b_post = b_prior + 35\n",
        "\n",
        "# Plot posterior\n",
        "plt.plot(x, beta.pdf(x, a_post, b_post), label='Posterior', color='blue')\n",
        "plt.title(\"Posterior Belief: Updated Probability Feature is Better\")\n",
        "plt.xlabel(\"Probability new feature is better\")\n",
        "plt.ylabel(\"Density\")\n",
        "plt.legend()\n",
        "plt.show()"
      ],
      "metadata": {
        "colab": {
          "base_uri": "https://localhost:8080/",
          "height": 472
        },
        "id": "cMhqLtBqWC0Z",
        "outputId": "09090ae1-9a65-463a-ba54-10af552eb970"
      },
      "execution_count": 8,
      "outputs": [
        {
          "output_type": "display_data",
          "data": {
            "text/plain": [
              "<Figure size 640x480 with 1 Axes>"
            ],
            "image/png": "[encoded data removed]"
          },
          "metadata": {}
        }
      ]
    },
    {
      "cell_type": "markdown",
      "source": [
        "**➕ If Posterior = 65%:**\n",
        "\n",
        "🔎 You are somewhat confident the new feature is better, but not enough.\n",
        "📉 A common decision threshold is **>90% or >95%**.\n",
        "❌ 65% is **not strong enough** to confidently roll out the feature.\n",
        "\n",
        "**➕ If Posterior = 55%:**\n",
        "\n",
        "😐 Very weak evidence.\n",
        "🚫 Definitely not enough to act.\n",
        "🧪 Keep testing or collect more data.\n",
        "\n",
        "**✅ Final Summary:**\n",
        "\n",
        "🎯 Prior: 50% chance new feature improves engagement (neutral belief).\n",
        "📊 After data: Posterior = 65% → modest confidence, but not enough to make a decision.\n",
        "🧠 If posterior was 90%+, you might consider rolling out. At 65% or 55%, it’s best to continue testing or collect more evidence."
      ],
      "metadata": {
        "id": "yKo00kFNWI4s"
      }
    },
    {
      "cell_type": "markdown",
      "source": [
        "🌟 Exercise 6: Implementing Adaptive Experimentation"
      ],
      "metadata": {
        "id": "puJvOmmNWi8d"
      }
    },
    {
      "cell_type": "code",
      "source": [
        "traffic_allocation = {\n",
        "    \"Layout A\": 0.2,\n",
        "    \"Layout B\": 0.2,\n",
        "    \"Layout C\": 0.6\n",
        "}"
      ],
      "metadata": {
        "id": "pyRadWI-WlsR"
      },
      "execution_count": 9,
      "outputs": []
    },
    {
      "cell_type": "code",
      "source": [
        "# New allocation if Layout B catches up:\n",
        "traffic_allocation = {\n",
        "    \"Layout A\": 0.1,\n",
        "    \"Layout B\": 0.4,\n",
        "    \"Layout C\": 0.5\n",
        "}"
      ],
      "metadata": {
        "id": "yOulNutdWuLK"
      },
      "execution_count": 10,
      "outputs": []
    },
    {
      "cell_type": "markdown",
      "source": [
        "🎯 Initially assign equal traffic (33%).\n",
        "\n",
        "\n",
        "---\n",
        "\n",
        "\n",
        "📊 After Week 1, shift more traffic to Layout C based on performance.\n",
        "\n",
        "\n",
        "---\n",
        "\n",
        "\n",
        "🔄 Continue adapting weekly.\n",
        "\n",
        "\n",
        "---\n",
        "\n",
        "\n",
        "⚖️ Balance exploration (test others) and exploitation (send more to top layout).\n",
        "\n",
        "\n",
        "---\n",
        "\n",
        "\n",
        "⚠️ Watch for early bias, small sample sizes, and overreaction to noise.\n",
        "\n",
        "\n",
        "---\n",
        "\n",
        "\n",
        "\n",
        "\n"
      ],
      "metadata": {
        "id": "y5gKpC30WzY6"
      }
    }
  ]
}