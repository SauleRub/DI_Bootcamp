{
  "nbformat": 4,
  "nbformat_minor": 0,
  "metadata": {
    "colab": {
      "provenance": [],
      "authorship_tag": "ABX9TyMKSeFMW6oT7XT43x7PBM5p",
      "include_colab_link": true
    },
    "kernelspec": {
      "name": "python3",
      "display_name": "Python 3"
    },
    "language_info": {
      "name": "python"
    }
  },
  "cells": [
    {
      "cell_type": "markdown",
      "metadata": {
        "id": "view-in-github",
        "colab_type": "text"
      },
      "source": [
        "<a href=\"https://colab.research.google.com/github/SauleRub/DI_Bootcamp/blob/main/Week11/Day2/Week11Day2_Exercises.ipynb\" target=\"_parent\"><img src=\"https://colab.research.google.com/assets/colab-badge.svg\" alt=\"Open In Colab\"/></a>"
      ]
    },
    {
      "cell_type": "markdown",
      "source": [
        "**Exercise 1**"
      ],
      "metadata": {
        "id": "WXMynn7lEWyL"
      }
    },
    {
      "cell_type": "code",
      "execution_count": null,
      "metadata": {
        "colab": {
          "base_uri": "https://localhost:8080/"
        },
        "id": "CltQANF5A927",
        "outputId": "f94a1ddd-529c-4ed6-9065-2f48b43c8eb0"
      },
      "outputs": [
        {
          "output_type": "stream",
          "name": "stdout",
          "text": [
            "Determinant of A: -9.99999999999999\n",
            "Inverse of A:\n",
            " [[ 7.40000000e+00 -6.00000000e-01 -4.40000000e+00]\n",
            " [-1.50000000e+00  1.02482125e-16  1.00000000e+00]\n",
            " [-1.30000000e+00  2.00000000e-01  8.00000000e-01]]\n"
          ]
        }
      ],
      "source": [
        "import numpy as np\n",
        "\n",
        "# 3x3 matrix\n",
        "A = np.array([[2, 4, 6],\n",
        "              [1, -2, 8],\n",
        "              [3, 7, 9]])\n",
        "\n",
        "# The determinant\n",
        "det_A = np.linalg.det(A)\n",
        "print(\"Determinant of A:\", det_A)\n",
        "\n",
        "# The inverse\n",
        "if det_A != 0:\n",
        "    inv_A = np.linalg.inv(A)\n",
        "    print(\"Inverse of A:\\n\", inv_A)\n",
        "else:\n",
        "    print(\"Matrix is not invertible.\")"
      ]
    },
    {
      "cell_type": "markdown",
      "source": [
        "**Exercise 2**"
      ],
      "metadata": {
        "id": "efcnwfa3Eb7x"
      }
    },
    {
      "cell_type": "code",
      "source": [
        "# An array of 50 random numbers (from a normal distribution)\n",
        "data = np.random.randn(50)\n",
        "\n",
        "# Statistical measures\n",
        "mean_value = np.mean(data)\n",
        "median_value = np.median(data)\n",
        "std_deviation = np.std(data)\n",
        "\n",
        "# Results\n",
        "print(\"Data:\", data)\n",
        "print(\"Mean:\", mean_value)\n",
        "print(\"Median:\", median_value)\n",
        "print(\"Standard Deviation:\", std_deviation)"
      ],
      "metadata": {
        "colab": {
          "base_uri": "https://localhost:8080/"
        },
        "id": "C-8YZLrmEg7m",
        "outputId": "91c2e522-195e-42b0-b7a8-db7842327307"
      },
      "execution_count": null,
      "outputs": [
        {
          "output_type": "stream",
          "name": "stdout",
          "text": [
            "Data: [ 1.34748581  0.19689215  0.12612259  1.12571191 -0.5878512  -0.52248802\n",
            "  1.31378803  0.93280898  0.03598808 -0.44889767 -1.53054779 -0.42569933\n",
            " -0.07533571  0.86913753 -0.63807276 -0.22445341 -0.19235524  0.77386173\n",
            " -0.38084508 -1.22779791  0.95172144 -0.89991105 -0.77702277 -1.6310657\n",
            " -0.35206921  0.25273646  0.50124423  0.14560785 -0.32517247 -0.71077344\n",
            " -1.64917146 -0.22589221  1.60028978  0.58403406  0.16554749  0.07497562\n",
            "  2.26691057 -0.12188194 -0.6058969   0.25872154 -1.49619961 -0.7486582\n",
            " -0.048707   -0.42345369 -0.98142815  0.08373903 -0.77376817  0.10426397\n",
            " -0.27345347 -0.56073283]\n",
            "Mean: -0.10296027164450429\n",
            "Median: -0.20840432374873163\n",
            "Standard Deviation: 0.8288580262706835\n"
          ]
        }
      ]
    },
    {
      "cell_type": "markdown",
      "source": [
        "**Exercise 3**"
      ],
      "metadata": {
        "id": "lF0ipH8iE4oc"
      }
    },
    {
      "cell_type": "code",
      "source": [
        "# Date range for January 2023\n",
        "dates = np.arange('2023-01-01', '2023-02-01', dtype='datetime64[D]')\n",
        "\n",
        "# Converting dates to string format 'YYYY/MM/DD'\n",
        "formatted_dates = np.array([str(date).replace('-', '/') for date in dates])\n",
        "\n",
        "# Result\n",
        "print(formatted_dates)"
      ],
      "metadata": {
        "colab": {
          "base_uri": "https://localhost:8080/"
        },
        "id": "HrwEYyP4E9NF",
        "outputId": "86ee757d-3c2b-4ee2-a5f9-5fe8262ac362"
      },
      "execution_count": null,
      "outputs": [
        {
          "output_type": "stream",
          "name": "stdout",
          "text": [
            "['2023/01/01' '2023/01/02' '2023/01/03' '2023/01/04' '2023/01/05'\n",
            " '2023/01/06' '2023/01/07' '2023/01/08' '2023/01/09' '2023/01/10'\n",
            " '2023/01/11' '2023/01/12' '2023/01/13' '2023/01/14' '2023/01/15'\n",
            " '2023/01/16' '2023/01/17' '2023/01/18' '2023/01/19' '2023/01/20'\n",
            " '2023/01/21' '2023/01/22' '2023/01/23' '2023/01/24' '2023/01/25'\n",
            " '2023/01/26' '2023/01/27' '2023/01/28' '2023/01/29' '2023/01/30'\n",
            " '2023/01/31']\n"
          ]
        }
      ]
    },
    {
      "cell_type": "code",
      "source": [
        "import pandas as pd\n",
        "\n",
        "# DataFrame with random integers between 10 and 100, size 6x4\n",
        "df = pd.DataFrame(np.random.randint(10, 100, size=(6, 4)),\n",
        "                  columns=['A', 'B', 'C', 'D'])\n",
        "\n",
        "# DataFrame\n",
        "print(\"DataFrame:\\n\", df)\n",
        "\n",
        "# Conditional selection: Show rows where column 'A' > 50\n",
        "print(\"\\nRows where A > 50:\\n\", df[df['A'] > 50])\n",
        "\n",
        "# Aggregation: sum of each column\n",
        "print(\"\\nColumn sums:\\n\", df.sum())\n",
        "\n",
        "# Aggregation: mean of each column\n",
        "print(\"\\nColumn means:\\n\", df.mean())"
      ],
      "metadata": {
        "colab": {
          "base_uri": "https://localhost:8080/"
        },
        "id": "C9KIBGf5FNZ1",
        "outputId": "666f32eb-94f7-4d5b-ca21-d392d066968c"
      },
      "execution_count": null,
      "outputs": [
        {
          "output_type": "stream",
          "name": "stdout",
          "text": [
            "DataFrame:\n",
            "     A   B   C   D\n",
            "0  81  31  91  16\n",
            "1  88  88  47  56\n",
            "2  77  45  25  91\n",
            "3  31  87  72  31\n",
            "4  17  73  87  90\n",
            "5  12  16  95  88\n",
            "\n",
            "Rows where A > 50:\n",
            "     A   B   C   D\n",
            "0  81  31  91  16\n",
            "1  88  88  47  56\n",
            "2  77  45  25  91\n",
            "\n",
            "Column sums:\n",
            " A    306\n",
            "B    340\n",
            "C    417\n",
            "D    372\n",
            "dtype: int64\n",
            "\n",
            "Column means:\n",
            " A    51.000000\n",
            "B    56.666667\n",
            "C    69.500000\n",
            "D    62.000000\n",
            "dtype: float64\n"
          ]
        }
      ]
    },
    {
      "cell_type": "markdown",
      "source": [
        "**Exercise 5**"
      ],
      "metadata": {
        "id": "uvpsQLUGFxgm"
      }
    },
    {
      "cell_type": "code",
      "source": [
        "import numpy as np\n",
        "import matplotlib.pyplot as plt\n",
        "\n",
        "# Create a 5x5 array with pixel values from 0 to 255\n",
        "grayscale_image = np.array([\n",
        "    [  0,  50, 100, 150, 200],\n",
        "    [ 25,  75, 125, 175, 225],\n",
        "    [255, 200, 150, 100,  50],\n",
        "    [ 80, 160, 240, 120,   0],\n",
        "    [ 30,  60,  90, 180, 210]\n",
        "], dtype=np.uint8)\n",
        "\n",
        "# Show as an image\n",
        "plt.imshow(grayscale_image, cmap='gray')\n",
        "plt.title(\"5x5 Grayscale Image\")\n",
        "plt.colorbar(label=\"Pixel Intensity\")\n",
        "plt.show()"
      ],
      "metadata": {
        "colab": {
          "base_uri": "https://localhost:8080/",
          "height": 452
        },
        "id": "s4FuC5NdFzdb",
        "outputId": "70a8be92-207e-4b9d-dffc-cfefd81fcf2e"
      },
      "execution_count": null,
      "outputs": [
        {
          "output_type": "display_data",
          "data": {
            "text/plain": [
              "<Figure size 640x480 with 2 Axes>"
            ],
            "image/png": "[encoded data removed]"
          },
          "metadata": {}
        }
      ]
    },
    {
      "cell_type": "markdown",
      "source": [
        "**Exercise 6**"
      ],
      "metadata": {
        "id": "mnPLQKybGWlO"
      }
    },
    {
      "cell_type": "code",
      "source": [
        "import numpy as np\n",
        "from scipy import stats\n",
        "\n",
        "# Simulate data\n",
        "np.random.seed(42)\n",
        "productivity_before = np.random.normal(loc=50, scale=10, size=30)\n",
        "productivity_after = productivity_before + np.random.normal(loc=5, scale=3, size=30)\n",
        "\n",
        "# Hypothesis:\n",
        "# H0: There is no improvement (mean difference = 0)\n",
        "# H1: There is improvement (mean after > mean before)\n",
        "\n",
        "# Paired t-test\n",
        "t_stat, p_value = stats.ttest_rel(productivity_after, productivity_before)\n",
        "\n",
        "# Results\n",
        "print(\"Mean before:\", round(np.mean(productivity_before), 2))\n",
        "print(\"Mean after :\", round(np.mean(productivity_after), 2))\n",
        "print(\"T-statistic:\", round(t_stat, 3))\n",
        "print(\"P-value    :\", round(p_value, 4))\n",
        "\n",
        "# Interpretation\n",
        "if p_value < 0.05:\n",
        "    print(\"✅ Reject H0 → The training program significantly improved productivity.\")\n",
        "else:\n",
        "    print(\"❌ Fail to reject H0 → No significant improvement found.\")"
      ],
      "metadata": {
        "colab": {
          "base_uri": "https://localhost:8080/"
        },
        "id": "WKBtb1zWF1-s",
        "outputId": "abd8469e-51d6-4d57-971f-288a127e3cea"
      },
      "execution_count": null,
      "outputs": [
        {
          "output_type": "stream",
          "name": "stdout",
          "text": [
            "Mean before: 48.12\n",
            "Mean after : 52.76\n",
            "T-statistic: 9.091\n",
            "P-value    : 0.0\n",
            "✅ Reject H0 → The training program significantly improved productivity.\n"
          ]
        }
      ]
    },
    {
      "cell_type": "markdown",
      "source": [
        "**Exercise 7**"
      ],
      "metadata": {
        "id": "c_dcNUlyGsby"
      }
    },
    {
      "cell_type": "code",
      "source": [
        "# Two arrays\n",
        "array1 = np.array([12, 7, 9, 15, 4])\n",
        "array2 = np.array([10, 8, 6, 15, 5])\n",
        "\n",
        "# Element-wise comparison\n",
        "comparison_result = array1 > array2\n",
        "\n",
        "# Results\n",
        "print(\"Array 1:\", array1)\n",
        "print(\"Array 2:\", array2)\n",
        "print(\"Array 1 > Array 2:\", comparison_result)"
      ],
      "metadata": {
        "colab": {
          "base_uri": "https://localhost:8080/"
        },
        "id": "c6Jy8uaTGwAC",
        "outputId": "f513eb37-3e24-416f-cc9e-3133e582a070"
      },
      "execution_count": null,
      "outputs": [
        {
          "output_type": "stream",
          "name": "stdout",
          "text": [
            "Array 1: [12  7  9 15  4]\n",
            "Array 2: [10  8  6 15  5]\n",
            "Array 1 > Array 2: [ True False  True False False]\n"
          ]
        }
      ]
    },
    {
      "cell_type": "markdown",
      "source": [
        "**Exercise 8**"
      ],
      "metadata": {
        "id": "C3Wtr0D-HBFi"
      }
    },
    {
      "cell_type": "code",
      "source": [
        "# Date range for the full year 2023 (daily frequency)\n",
        "dates_2023 = pd.date_range(start=\"2023-01-01\", end=\"2023-12-31\", freq='D')\n",
        "\n",
        "# Generating some dummy time series data\n",
        "data = np.random.randn(len(dates_2023))\n",
        "time_series = pd.Series(data, index=dates_2023)\n",
        "\n",
        "# Slicing the data by quarter\n",
        "jan_to_mar = time_series['2023-01':'2023-03']\n",
        "apr_to_jun = time_series['2023-04':'2023-06']\n",
        "jul_to_sep = time_series['2023-07':'2023-09']\n",
        "oct_to_dec = time_series['2023-10':'2023-12']\n",
        "\n",
        "# Sample output\n",
        "print(\"January to March:\\n\", jan_to_mar.head())\n",
        "print(\"\\nApril to June:\\n\", apr_to_jun.head())"
      ],
      "metadata": {
        "colab": {
          "base_uri": "https://localhost:8080/"
        },
        "id": "RcDDjFTMHDUG",
        "outputId": "1888d2e2-c8da-426b-ee7c-ef62d6e56cc0"
      },
      "execution_count": null,
      "outputs": [
        {
          "output_type": "stream",
          "name": "stdout",
          "text": [
            "January to March:\n",
            " 2023-01-01   -0.479174\n",
            "2023-01-02   -0.185659\n",
            "2023-01-03   -1.106335\n",
            "2023-01-04   -1.196207\n",
            "2023-01-05    0.812526\n",
            "Freq: D, dtype: float64\n",
            "\n",
            "April to June:\n",
            " 2023-04-01    0.250493\n",
            "2023-04-02    0.346448\n",
            "2023-04-03   -0.680025\n",
            "2023-04-04    0.232254\n",
            "2023-04-05    0.293072\n",
            "Freq: D, dtype: float64\n"
          ]
        }
      ]
    },
    {
      "cell_type": "markdown",
      "source": [
        "**Exercise 9**"
      ],
      "metadata": {
        "id": "pGiZ0HoeHToI"
      }
    },
    {
      "cell_type": "code",
      "source": [
        "# NumPy array\n",
        "array = np.random.rand(5, 3)  # 5 rows, 3 columns\n",
        "\n",
        "# NumPy array to Pandas DataFrame\n",
        "df = pd.DataFrame(array, columns=['A', 'B', 'C'])\n",
        "print(\"DataFrame from NumPy array:\\n\", df)\n",
        "\n",
        "# DataFrame back to a NumPy array\n",
        "array_back = df.to_numpy()\n",
        "print(\"\\nNumPy array converted back from DataFrame:\\n\", array_back)"
      ],
      "metadata": {
        "colab": {
          "base_uri": "https://localhost:8080/"
        },
        "id": "r84tfqBsHXIv",
        "outputId": "687f54a9-42e6-40da-ac08-d154870c1c1d"
      },
      "execution_count": null,
      "outputs": [
        {
          "output_type": "stream",
          "name": "stdout",
          "text": [
            "DataFrame from NumPy array:\n",
            "           A         B         C\n",
            "0  0.704080  0.212964  0.136371\n",
            "1  0.014545  0.350588  0.589918\n",
            "2  0.392244  0.437475  0.904159\n",
            "3  0.348255  0.513989  0.783653\n",
            "4  0.396543  0.622087  0.862364\n",
            "\n",
            "NumPy array converted back from DataFrame:\n",
            " [[0.70407977 0.21296416 0.13637148]\n",
            " [0.01454467 0.35058756 0.58991769]\n",
            " [0.39224405 0.43747492 0.90415869]\n",
            " [0.34825547 0.51398949 0.78365301]\n",
            " [0.39654278 0.6220867  0.86236371]]\n"
          ]
        }
      ]
    },
    {
      "cell_type": "markdown",
      "source": [
        "**Exercise 10**"
      ],
      "metadata": {
        "id": "HC54rBvXHmST"
      }
    },
    {
      "cell_type": "code",
      "source": [
        "# Random data\n",
        "x = np.arange(0, 10, 1)  # x-axis values from 0 to 9\n",
        "y = np.random.rand(10)   # 10 random y-axis values\n",
        "\n",
        "# Line plot\n",
        "plt.plot(x, y, marker='o', linestyle='-', label='Random Line')\n",
        "\n",
        "# Titles and labels\n",
        "plt.title('Random Number Line Graph')\n",
        "plt.xlabel('Index')\n",
        "plt.ylabel('Value')\n",
        "plt.legend()\n",
        "plt.grid(True)\n",
        "plt.show()"
      ],
      "metadata": {
        "colab": {
          "base_uri": "https://localhost:8080/",
          "height": 472
        },
        "id": "7o_jChexHosa",
        "outputId": "8a692673-9694-4d93-c8bf-311041b4f5e4"
      },
      "execution_count": null,
      "outputs": [
        {
          "output_type": "display_data",
          "data": {
            "text/plain": [
              "<Figure size 640x480 with 1 Axes>"
            ],
            "image/png": "[encoded data removed]"
          },
          "metadata": {}
        }
      ]
    }
  ]
}