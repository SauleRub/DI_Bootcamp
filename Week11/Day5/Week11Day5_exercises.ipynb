{
  "nbformat": 4,
  "nbformat_minor": 0,
  "metadata": {
    "colab": {
      "provenance": [],
      "authorship_tag": "ABX9TyNokDxnc7S7MdGkNJ78Q3sW",
      "include_colab_link": true
    },
    "kernelspec": {
      "name": "python3",
      "display_name": "Python 3"
    },
    "language_info": {
      "name": "python"
    }
  },
  "cells": [
    {
      "cell_type": "markdown",
      "metadata": {
        "id": "view-in-github",
        "colab_type": "text"
      },
      "source": [
        "<a href=\"https://colab.research.google.com/github/SauleRub/DI_Bootcamp/blob/main/Week11/Day5/Week11Day5_exercises.ipynb\" target=\"_parent\"><img src=\"https://colab.research.google.com/assets/colab-badge.svg\" alt=\"Open In Colab\"/></a>"
      ]
    },
    {
      "cell_type": "markdown",
      "source": [
        "🌟 Exercise 1: Linear Regression Analysis"
      ],
      "metadata": {
        "id": "zsgojGJbdYpl"
      }
    },
    {
      "cell_type": "code",
      "execution_count": null,
      "metadata": {
        "id": "Ou2djkLhc_Ov"
      },
      "outputs": [],
      "source": [
        "import numpy as np\n",
        "from sklearn.linear_model import LinearRegression"
      ]
    },
    {
      "cell_type": "code",
      "source": [
        "# House sizes (square meters)\n",
        "house_sizes = np.array([50, 70, 80, 100, 120]).reshape(-1, 1)\n",
        "\n",
        "# House prices (currency units)\n",
        "house_prices = np.array([150000, 200000, 210000, 250000, 280000])"
      ],
      "metadata": {
        "id": "TDgXCg1wdfVG"
      },
      "execution_count": null,
      "outputs": []
    },
    {
      "cell_type": "code",
      "source": [
        "model = LinearRegression()\n",
        "model.fit(house_sizes, house_prices)\n",
        "\n",
        "slope = model.coef_[0]\n",
        "intercept = model.intercept_"
      ],
      "metadata": {
        "id": "EjiJ6RS4diDN"
      },
      "execution_count": null,
      "outputs": []
    },
    {
      "cell_type": "code",
      "source": [
        "predicted_price = model.predict([[90]])[0]"
      ],
      "metadata": {
        "id": "iZb439REdu9a"
      },
      "execution_count": null,
      "outputs": []
    },
    {
      "cell_type": "code",
      "source": [
        "print(f\"Slope: {slope}\")\n",
        "print(f\"Intercept: {intercept}\")\n",
        "print(f\"Predicted price for 90 sqm: {predicted_price}\")"
      ],
      "metadata": {
        "colab": {
          "base_uri": "https://localhost:8080/"
        },
        "id": "1u-BSjh9dw_o",
        "outputId": "5bfea32f-6106-4a4c-e077-23f0cba4fcc6"
      },
      "execution_count": null,
      "outputs": [
        {
          "output_type": "stream",
          "name": "stdout",
          "text": [
            "Slope: 1828.7671232876708\n",
            "Intercept: 64383.56164383565\n",
            "Predicted price for 90 sqm: 228972.60273972602\n"
          ]
        }
      ]
    },
    {
      "cell_type": "markdown",
      "source": [
        "📊 Interpretation:\n",
        "\t•\tSlope (e.g., ~1250): This means that for every additional square meter, the price increases by ~1250 currency units.\n",
        "\t•\tIntercept (e.g., ~87500): The model predicts a base price of ~87500 when the size is 0 sqm (not meaningful physically, but mathematically useful).\n",
        "\t•\tPrediction for 90 sqm: Gives you the estimated price of a 90 sqm house."
      ],
      "metadata": {
        "id": "FOx0EUzzd1fP"
      }
    },
    {
      "cell_type": "markdown",
      "source": [
        "🌟 Exercise 2: Understanding ANOVA."
      ],
      "metadata": {
        "id": "5IQ0_6Xrd48v"
      }
    },
    {
      "cell_type": "code",
      "source": [
        "from scipy import stats"
      ],
      "metadata": {
        "id": "k3ebdLr-d4Tx"
      },
      "execution_count": null,
      "outputs": []
    },
    {
      "cell_type": "code",
      "source": [
        "fertilizer_1 = [5, 6, 7, 6, 5]\n",
        "fertilizer_2 = [7, 8, 7, 9, 8]\n",
        "fertilizer_3 = [4, 5, 4, 3, 4]"
      ],
      "metadata": {
        "id": "fdCPaMxYeB_k"
      },
      "execution_count": null,
      "outputs": []
    },
    {
      "cell_type": "code",
      "source": [
        "f_stat, p_value = stats.f_oneway(fertilizer_1, fertilizer_2, fertilizer_3)\n",
        "print(f\"F-value: {f_stat:.3f}\")\n",
        "print(f\"P-value: {p_value:.3f}\")"
      ],
      "metadata": {
        "colab": {
          "base_uri": "https://localhost:8080/"
        },
        "id": "c_AHeeNBeDvi",
        "outputId": "5656468b-25ab-4645-eba5-ab1d08242721"
      },
      "execution_count": null,
      "outputs": [
        {
          "output_type": "stream",
          "name": "stdout",
          "text": [
            "F-value: 28.526\n",
            "P-value: 0.000\n"
          ]
        }
      ]
    },
    {
      "cell_type": "markdown",
      "source": [
        "🧠 Interpretation\n",
        "\t•\tThe P-value (0.000) is much less than 0.05, which means the result is statistically significant.\n",
        "\t•\t✅ Conclusion: There is a significant difference in plant growth between at least one pair of fertilizers. This suggests that not all fertilizers have the same effect on plant growth.\n"
      ],
      "metadata": {
        "id": "Y7vfA5-veSkc"
      }
    },
    {
      "cell_type": "markdown",
      "source": [
        "🌟 Exercise 3: Probability Distributions"
      ],
      "metadata": {
        "id": "sgxahnKmeTvp"
      }
    },
    {
      "cell_type": "code",
      "source": [
        "from scipy.stats import binom\n",
        "\n",
        "# Parameters\n",
        "n = 10        # number of trials (coin flips)\n",
        "p = 0.5       # probability of success (head)\n",
        "k = 5         # number of desired heads\n",
        "\n",
        "# Probability\n",
        "probability = binom.pmf(k, n, p)\n",
        "print(f\"Probability of getting exactly 5 heads in 10 flips: {probability:.4f}\")"
      ],
      "metadata": {
        "colab": {
          "base_uri": "https://localhost:8080/"
        },
        "id": "tCRCxxADeW-B",
        "outputId": "92c7a56a-0ee8-47b1-ca84-c54c6893fba4"
      },
      "execution_count": null,
      "outputs": [
        {
          "output_type": "stream",
          "name": "stdout",
          "text": [
            "Probability of getting exactly 5 heads in 10 flips: 0.2461\n"
          ]
        }
      ]
    },
    {
      "cell_type": "markdown",
      "source": [
        "🌟 Exercise 4: Correlation Coefficients."
      ],
      "metadata": {
        "id": "DifXIXOBerbm"
      }
    },
    {
      "cell_type": "code",
      "source": [
        "import pandas as pd\n",
        "from scipy.stats import pearsonr, spearmanr\n",
        "\n",
        "# Sample data\n",
        "data = pd.DataFrame({\n",
        "    'age': [23, 25, 30, 35, 40],\n",
        "    'income': [35000, 40000, 50000, 60000, 70000]\n",
        "})\n",
        "\n",
        "# Pearson Correlation\n",
        "pearson_corr, _ = pearsonr(data['age'], data['income'])\n",
        "\n",
        "# Spearman Correlation\n",
        "spearman_corr, _ = spearmanr(data['age'], data['income'])\n",
        "\n",
        "print(f\"Pearson Correlation: {pearson_corr:.4f}\")\n",
        "print(f\"Spearman Correlation: {spearman_corr:.4f}\")"
      ],
      "metadata": {
        "colab": {
          "base_uri": "https://localhost:8080/"
        },
        "id": "Co0hG26nesKB",
        "outputId": "42b8b7d0-f448-41ac-9cc6-d020d84409dd"
      },
      "execution_count": null,
      "outputs": [
        {
          "output_type": "stream",
          "name": "stdout",
          "text": [
            "Pearson Correlation: 0.9997\n",
            "Spearman Correlation: 1.0000\n"
          ]
        }
      ]
    },
    {
      "cell_type": "markdown",
      "source": [
        "🌟 Exercise 5: Linear Relationships (Visualization)"
      ],
      "metadata": {
        "id": "LGgUogMSe6im"
      }
    },
    {
      "cell_type": "code",
      "source": [
        "import matplotlib.pyplot as plt\n",
        "\n",
        "# Scatter plot\n",
        "plt.scatter(data['age'], data['income'])\n",
        "plt.title('Scatter Plot of Age vs Income')\n",
        "plt.xlabel('Age')\n",
        "plt.ylabel('Income')\n",
        "plt.grid(True)\n",
        "plt.show()"
      ],
      "metadata": {
        "colab": {
          "base_uri": "https://localhost:8080/",
          "height": 472
        },
        "id": "CXa_VmjZe7PF",
        "outputId": "7b224886-e20b-44c2-e072-cd4d091d1245"
      },
      "execution_count": null,
      "outputs": [
        {
          "output_type": "display_data",
          "data": {
            "text/plain": [
              "<Figure size 640x480 with 1 Axes>"
            ],
            "image/png": "[encoded data removed]"
          },
          "metadata": {}
        }
      ]
    }
  ]
}