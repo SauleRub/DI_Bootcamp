{
  "nbformat": 4,
  "nbformat_minor": 0,
  "metadata": {
    "colab": {
      "provenance": [],
      "authorship_tag": "ABX9TyPe7uvdCiEfPho13A9LiFEW",
      "include_colab_link": true
    },
    "kernelspec": {
      "name": "python3",
      "display_name": "Python 3"
    },
    "language_info": {
      "name": "python"
    }
  },
  "cells": [
    {
      "cell_type": "markdown",
      "metadata": {
        "id": "view-in-github",
        "colab_type": "text"
      },
      "source": [
        "<a href=\"https://colab.research.google.com/github/SauleRub/DI_Bootcamp/blob/main/Week10/Day5/Week10_Day5_Exercises.ipynb\" target=\"_parent\"><img src=\"https://colab.research.google.com/assets/colab-badge.svg\" alt=\"Open In Colab\"/></a>"
      ]
    },
    {
      "cell_type": "markdown",
      "source": [
        "Exercise 1: Array Creation and Manipulation"
      ],
      "metadata": {
        "id": "BuLG6IKxLCMQ"
      }
    },
    {
      "cell_type": "code",
      "execution_count": 1,
      "metadata": {
        "colab": {
          "base_uri": "https://localhost:8080/"
        },
        "id": "qdyxKuIxGS5a",
        "outputId": "a6cc8e8c-ef57-4faf-b127-feedcf2df224"
      },
      "outputs": [
        {
          "output_type": "stream",
          "name": "stdout",
          "text": [
            "[0 1 2 3 4 5 6 7 8 9]\n"
          ]
        }
      ],
      "source": [
        "import numpy as np\n",
        "\n",
        "array1 = np.arange(10)\n",
        "\n",
        "print(array1)"
      ]
    },
    {
      "cell_type": "markdown",
      "source": [
        "Exercise 2: Type Conversion and Array Operations"
      ],
      "metadata": {
        "id": "bmxeG7imLSCH"
      }
    },
    {
      "cell_type": "code",
      "source": [
        "my_list = [3.14, 2.17, 0, 1, 2]\n",
        "\n",
        "array2 = np.array(my_list).astype(int)\n",
        "\n",
        "print(array2)"
      ],
      "metadata": {
        "colab": {
          "base_uri": "https://localhost:8080/"
        },
        "id": "Y1Mvrqq-LSn-",
        "outputId": "7b89e547-d2ed-4c42-848c-8b931f185cec"
      },
      "execution_count": 2,
      "outputs": [
        {
          "output_type": "stream",
          "name": "stdout",
          "text": [
            "[3 2 0 1 2]\n"
          ]
        }
      ]
    },
    {
      "cell_type": "markdown",
      "source": [
        "Exercise 3: Working with Multi-Dimensional Arrays"
      ],
      "metadata": {
        "id": "Qj4E7oiyLc66"
      }
    },
    {
      "cell_type": "code",
      "source": [
        "# 3x3 array with values from 1 to 9\n",
        "array3 = np.arange(1, 10).reshape(3, 3)\n",
        "\n",
        "print(array3)"
      ],
      "metadata": {
        "colab": {
          "base_uri": "https://localhost:8080/"
        },
        "id": "llI4AzV_LxBn",
        "outputId": "51c59719-2917-42d9-eb5f-196ad670fc9e"
      },
      "execution_count": 3,
      "outputs": [
        {
          "output_type": "stream",
          "name": "stdout",
          "text": [
            "[[1 2 3]\n",
            " [4 5 6]\n",
            " [7 8 9]]\n"
          ]
        }
      ]
    },
    {
      "cell_type": "markdown",
      "source": [
        "Exercise 4: Creating Multi-Dimensional Array with Random Numbers"
      ],
      "metadata": {
        "id": "-2Ea3IiQL9DA"
      }
    },
    {
      "cell_type": "code",
      "source": [
        "# 4x5 array with random numbers\n",
        "random_array = np.random.rand(4, 5)\n",
        "\n",
        "print(random_array)"
      ],
      "metadata": {
        "colab": {
          "base_uri": "https://localhost:8080/"
        },
        "id": "eteynMJMMZId",
        "outputId": "9246e827-2860-4989-a897-2da57baf0cc0"
      },
      "execution_count": 4,
      "outputs": [
        {
          "output_type": "stream",
          "name": "stdout",
          "text": [
            "[[0.22150664 0.89729887 0.72567193 0.45531699 0.06675033]\n",
            " [0.94857578 0.34569519 0.30420664 0.02284188 0.56900922]\n",
            " [0.02031348 0.78968549 0.34265819 0.01352318 0.14563484]\n",
            " [0.46749215 0.8144109  0.43902438 0.20166432 0.42028477]]\n"
          ]
        }
      ]
    },
    {
      "cell_type": "markdown",
      "source": [
        "Exercise 5: Indexing Arrays"
      ],
      "metadata": {
        "id": "kuREEjuyMhsC"
      }
    },
    {
      "cell_type": "code",
      "source": [
        "array = np.array([[21, 22, 23, 22, 22],\n",
        "                  [20, 21, 22, 23, 24],\n",
        "                  [21, 22, 23, 22, 22]])"
      ],
      "metadata": {
        "id": "HqSpHilhMifp"
      },
      "execution_count": 5,
      "outputs": []
    },
    {
      "cell_type": "code",
      "source": [
        "second_row = array[1]"
      ],
      "metadata": {
        "id": "8wRUt55UMmln"
      },
      "execution_count": 6,
      "outputs": []
    },
    {
      "cell_type": "code",
      "source": [
        "print(second_row)"
      ],
      "metadata": {
        "colab": {
          "base_uri": "https://localhost:8080/"
        },
        "id": "yHX-aJ2VMqea",
        "outputId": "dfe7d129-3958-46ab-d03a-5839cec213dd"
      },
      "execution_count": 7,
      "outputs": [
        {
          "output_type": "stream",
          "name": "stdout",
          "text": [
            "[20 21 22 23 24]\n"
          ]
        }
      ]
    },
    {
      "cell_type": "markdown",
      "source": [
        "Exercise 6: Reversing Elements"
      ],
      "metadata": {
        "id": "Z6CZn0VnMvvF"
      }
    },
    {
      "cell_type": "code",
      "source": [
        "array = np.array([0, 1, 2, 3, 4, 5, 6, 7, 8, 9])"
      ],
      "metadata": {
        "id": "u85L2VvKMwXF"
      },
      "execution_count": 8,
      "outputs": []
    },
    {
      "cell_type": "code",
      "source": [
        "reversed_array = array[::-1]"
      ],
      "metadata": {
        "id": "rk5jU9Y0MzM3"
      },
      "execution_count": 9,
      "outputs": []
    },
    {
      "cell_type": "code",
      "source": [
        "print(reversed_array)"
      ],
      "metadata": {
        "colab": {
          "base_uri": "https://localhost:8080/"
        },
        "id": "RpsPHfqvM2f3",
        "outputId": "33aef732-2097-4c0a-edd1-31c77cdf2636"
      },
      "execution_count": 10,
      "outputs": [
        {
          "output_type": "stream",
          "name": "stdout",
          "text": [
            "[9 8 7 6 5 4 3 2 1 0]\n"
          ]
        }
      ]
    },
    {
      "cell_type": "markdown",
      "source": [
        "Exercise 7: Identity Matrix"
      ],
      "metadata": {
        "id": "t8ZRC5m8M-rP"
      }
    },
    {
      "cell_type": "code",
      "source": [
        "identity_matrix = np.identity(4)"
      ],
      "metadata": {
        "id": "xuctU0GTNBuv"
      },
      "execution_count": 11,
      "outputs": []
    },
    {
      "cell_type": "code",
      "source": [
        "print(identity_matrix)"
      ],
      "metadata": {
        "colab": {
          "base_uri": "https://localhost:8080/"
        },
        "id": "xuHIm-mzNFpQ",
        "outputId": "259e3044-56ce-4bd0-a7c5-aa37ceb4c279"
      },
      "execution_count": 12,
      "outputs": [
        {
          "output_type": "stream",
          "name": "stdout",
          "text": [
            "[[1. 0. 0. 0.]\n",
            " [0. 1. 0. 0.]\n",
            " [0. 0. 1. 0.]\n",
            " [0. 0. 0. 1.]]\n"
          ]
        }
      ]
    },
    {
      "cell_type": "markdown",
      "source": [
        "Exercise 8: Simple Aggregate Functions"
      ],
      "metadata": {
        "id": "KuATpVwhOLah"
      }
    },
    {
      "cell_type": "code",
      "source": [
        "arr = np.array([0, 1, 2, 3, 4, 5, 6, 7, 8, 9])"
      ],
      "metadata": {
        "id": "65lrGOZ0ONm2"
      },
      "execution_count": 13,
      "outputs": []
    },
    {
      "cell_type": "code",
      "source": [
        "total = np.sum(arr)"
      ],
      "metadata": {
        "id": "U41r9PwjORZs"
      },
      "execution_count": 14,
      "outputs": []
    },
    {
      "cell_type": "code",
      "source": [
        "average = np.mean(arr)"
      ],
      "metadata": {
        "id": "U3aPAsVxOS7e"
      },
      "execution_count": 15,
      "outputs": []
    },
    {
      "cell_type": "code",
      "source": [
        "print(\"Sum:\", total)\n",
        "print(\"Average:\", average)"
      ],
      "metadata": {
        "colab": {
          "base_uri": "https://localhost:8080/"
        },
        "id": "_oNQmHMpOW6Q",
        "outputId": "9224be88-33a5-4fe0-90d9-ad2000359d9f"
      },
      "execution_count": 16,
      "outputs": [
        {
          "output_type": "stream",
          "name": "stdout",
          "text": [
            "Sum: 45\n",
            "Average: 4.5\n"
          ]
        }
      ]
    },
    {
      "cell_type": "markdown",
      "source": [
        "Exercise 9: Create Array and Change its Structure"
      ],
      "metadata": {
        "id": "8gwtme8DOcuK"
      }
    },
    {
      "cell_type": "code",
      "source": [
        "import numpy as np"
      ],
      "metadata": {
        "id": "djd2fJgbOdT5"
      },
      "execution_count": 17,
      "outputs": []
    },
    {
      "cell_type": "code",
      "source": [
        "arr = np.arange(1, 21)"
      ],
      "metadata": {
        "id": "HMkzVOfAOfjl"
      },
      "execution_count": 18,
      "outputs": []
    },
    {
      "cell_type": "code",
      "source": [
        "reshaped_arr = arr.reshape(4, 5)"
      ],
      "metadata": {
        "id": "KZOQ2rNvOizv"
      },
      "execution_count": 19,
      "outputs": []
    },
    {
      "cell_type": "code",
      "source": [
        "print(reshaped_arr)"
      ],
      "metadata": {
        "colab": {
          "base_uri": "https://localhost:8080/"
        },
        "id": "-BXqvYewOk5v",
        "outputId": "ae859a86-e028-4351-9f63-2ab86d09634c"
      },
      "execution_count": 20,
      "outputs": [
        {
          "output_type": "stream",
          "name": "stdout",
          "text": [
            "[[ 1  2  3  4  5]\n",
            " [ 6  7  8  9 10]\n",
            " [11 12 13 14 15]\n",
            " [16 17 18 19 20]]\n"
          ]
        }
      ]
    },
    {
      "cell_type": "markdown",
      "source": [
        "Exercise 10: Conditional Selection of Values"
      ],
      "metadata": {
        "id": "kMVbqo3NOqQO"
      }
    },
    {
      "cell_type": "code",
      "source": [
        "import numpy as np"
      ],
      "metadata": {
        "id": "kfkhkSATOtdp"
      },
      "execution_count": 21,
      "outputs": []
    },
    {
      "cell_type": "code",
      "source": [
        "arr = np.arange(10)"
      ],
      "metadata": {
        "id": "eVcJYKLAOxFx"
      },
      "execution_count": 22,
      "outputs": []
    },
    {
      "cell_type": "code",
      "source": [
        "odd_numbers = arr[arr % 2 == 1]"
      ],
      "metadata": {
        "id": "u2rL6lOoO0mh"
      },
      "execution_count": 23,
      "outputs": []
    },
    {
      "cell_type": "code",
      "source": [
        "print(odd_numbers)"
      ],
      "metadata": {
        "colab": {
          "base_uri": "https://localhost:8080/"
        },
        "id": "j9dI2Lz6O2eR",
        "outputId": "3785e6d2-7d76-40dd-e708-ce131564d8fe"
      },
      "execution_count": 24,
      "outputs": [
        {
          "output_type": "stream",
          "name": "stdout",
          "text": [
            "[1 3 5 7 9]\n"
          ]
        }
      ]
    }
  ]
}