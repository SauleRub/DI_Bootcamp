{
  "nbformat": 4,
  "nbformat_minor": 0,
  "metadata": {
    "colab": {
      "provenance": [],
      "authorship_tag": "ABX9TyODpudTw/hurpdei/o6ALTt",
      "include_colab_link": true
    },
    "kernelspec": {
      "name": "python3",
      "display_name": "Python 3"
    },
    "language_info": {
      "name": "python"
    }
  },
  "cells": [
    {
      "cell_type": "markdown",
      "metadata": {
        "id": "view-in-github",
        "colab_type": "text"
      },
      "source": [
        "<a href=\"https://colab.research.google.com/github/SauleRub/DI_Bootcamp/blob/main/Week9/Day4/Exercises_Week9_Day4.ipynb\" target=\"_parent\"><img src=\"https://colab.research.google.com/assets/colab-badge.svg\" alt=\"Open In Colab\"/></a>"
      ]
    },
    {
      "cell_type": "code",
      "execution_count": 4,
      "metadata": {
        "colab": {
          "base_uri": "https://localhost:8080/"
        },
        "id": "oaTq8y630Zix",
        "outputId": "1dc348cb-3f5c-46f1-947e-47fe744ff1b5"
      },
      "outputs": [
        {
          "output_type": "stream",
          "name": "stdout",
          "text": [
            "Connected successfully!\n"
          ]
        }
      ],
      "source": [
        "from sqlalchemy import create_engine\n",
        "import sqlalchemy\n",
        "\n",
        "engine = create_engine('sqlite:///chinook.db')\n",
        "\n",
        "conn = engine.connect()\n",
        "print(\"Connected successfully!\")"
      ]
    },
    {
      "cell_type": "markdown",
      "source": [
        "Exercise 1: Reflect the database and prepare ORM session"
      ],
      "metadata": {
        "id": "lYtFurAO1ksI"
      }
    },
    {
      "cell_type": "code",
      "source": [
        "from sqlalchemy.ext.automap import automap_base\n",
        "from sqlalchemy.orm import sessionmaker\n",
        "import sqlalchemy\n",
        "\n",
        "# the database schema\n",
        "metadata = sqlalchemy.MetaData()\n",
        "metadata.reflect(engine)\n",
        "\n",
        "# Automapping base to map tables to Python classes\n",
        "Base = automap_base(metadata=metadata)\n",
        "Base.prepare()\n",
        "\n",
        "# Setting up an ORM session\n",
        "Session = sessionmaker(bind=engine)\n",
        "session = Session()"
      ],
      "metadata": {
        "id": "8NWeti6u1lY1"
      },
      "execution_count": 5,
      "outputs": []
    },
    {
      "cell_type": "code",
      "source": [
        "# Table names in the database\n",
        "from sqlalchemy import inspect\n",
        "\n",
        "inspector = inspect(engine)\n",
        "print(inspector.get_table_names())"
      ],
      "metadata": {
        "colab": {
          "base_uri": "https://localhost:8080/"
        },
        "id": "3nVgz7Mc1zGN",
        "outputId": "5d557978-e32a-4051-fb65-0d5f9fffc4a3"
      },
      "execution_count": 8,
      "outputs": [
        {
          "output_type": "stream",
          "name": "stdout",
          "text": [
            "[]\n"
          ]
        }
      ]
    },
    {
      "cell_type": "code",
      "source": [
        "import os\n",
        "\n",
        "# List all files in current directory\n",
        "print(os.listdir())"
      ],
      "metadata": {
        "colab": {
          "base_uri": "https://localhost:8080/"
        },
        "id": "e1g2-BCf2ZrM",
        "outputId": "99ca8c22-b42b-4510-cc9c-d8278cf5735e"
      },
      "execution_count": 9,
      "outputs": [
        {
          "output_type": "stream",
          "name": "stdout",
          "text": [
            "['.config', 'chinook.db', 'sample_data']\n"
          ]
        }
      ]
    },
    {
      "cell_type": "code",
      "source": [
        "from sqlalchemy import create_engine\n",
        "\n",
        "engine = create_engine(\"sqlite:///chinook.db\")"
      ],
      "metadata": {
        "id": "8FfM7p9u2hik"
      },
      "execution_count": 10,
      "outputs": []
    },
    {
      "cell_type": "code",
      "source": [
        "from sqlalchemy import inspect\n",
        "\n",
        "inspector = inspect(engine)\n",
        "print(inspector.get_table_names())"
      ],
      "metadata": {
        "colab": {
          "base_uri": "https://localhost:8080/"
        },
        "id": "wGf4jurt2kPm",
        "outputId": "372e9adc-1773-4836-fbd4-c5537145914a"
      },
      "execution_count": 11,
      "outputs": [
        {
          "output_type": "stream",
          "name": "stdout",
          "text": [
            "[]\n"
          ]
        }
      ]
    },
    {
      "cell_type": "code",
      "source": [
        "import os\n",
        "\n",
        "print(os.listdir())"
      ],
      "metadata": {
        "colab": {
          "base_uri": "https://localhost:8080/"
        },
        "id": "EcVWmCRZ2tN1",
        "outputId": "1ad5e3b2-31bd-4a0e-f84e-27f85b3db130"
      },
      "execution_count": 13,
      "outputs": [
        {
          "output_type": "stream",
          "name": "stdout",
          "text": [
            "['.config', 'chinook.db', 'sample_data']\n"
          ]
        }
      ]
    },
    {
      "cell_type": "code",
      "source": [
        "import sqlite3\n",
        "\n",
        "conn = sqlite3.connect('chinook.db')\n",
        "cursor = conn.cursor()\n",
        "\n",
        "cursor.execute(\"SELECT name FROM sqlite_master WHERE type='table';\")\n",
        "tables = cursor.fetchall()\n",
        "print(tables)"
      ],
      "metadata": {
        "colab": {
          "base_uri": "https://localhost:8080/"
        },
        "id": "ccl6cBzB2yam",
        "outputId": "1049fa07-5143-43eb-d80f-83f3fa3981b7"
      },
      "execution_count": 14,
      "outputs": [
        {
          "output_type": "stream",
          "name": "stdout",
          "text": [
            "[]\n"
          ]
        }
      ]
    },
    {
      "cell_type": "code",
      "source": [
        "!wget https://github.com/lerocha/chinook-database/raw/master/ChinookDatabase/DataSources/Chinook_Sqlite.sqlite -O chinook.db"
      ],
      "metadata": {
        "colab": {
          "base_uri": "https://localhost:8080/"
        },
        "id": "bNm3c_2L3BOd",
        "outputId": "3be241dd-9aa2-46ec-f440-52a911be9682"
      },
      "execution_count": 15,
      "outputs": [
        {
          "output_type": "stream",
          "name": "stdout",
          "text": [
            "--2025-06-11 16:39:10--  https://github.com/lerocha/chinook-database/raw/master/ChinookDatabase/DataSources/Chinook_Sqlite.sqlite\n",
            "Resolving github.com (github.com)... 140.82.114.4\n",
            "Connecting to github.com (github.com)|140.82.114.4|:443... connected.\n",
            "HTTP request sent, awaiting response... 302 Found\n",
            "Location: https://raw.githubusercontent.com/lerocha/chinook-database/master/ChinookDatabase/DataSources/Chinook_Sqlite.sqlite [following]\n",
            "--2025-06-11 16:39:10--  https://raw.githubusercontent.com/lerocha/chinook-database/master/ChinookDatabase/DataSources/Chinook_Sqlite.sqlite\n",
            "Resolving raw.githubusercontent.com (raw.githubusercontent.com)... 185.199.108.133, 185.199.111.133, 185.199.109.133, ...\n",
            "Connecting to raw.githubusercontent.com (raw.githubusercontent.com)|185.199.108.133|:443... connected.\n",
            "HTTP request sent, awaiting response... 200 OK\n",
            "Length: 1067008 (1.0M) [application/octet-stream]\n",
            "Saving to: ‘chinook.db’\n",
            "\n",
            "chinook.db          100%[===================>]   1.02M  --.-KB/s    in 0.06s   \n",
            "\n",
            "2025-06-11 16:39:10 (17.5 MB/s) - ‘chinook.db’ saved [1067008/1067008]\n",
            "\n"
          ]
        }
      ]
    },
    {
      "cell_type": "code",
      "source": [
        "from sqlalchemy import create_engine\n",
        "\n",
        "engine = create_engine(\"sqlite:///chinook.db\")"
      ],
      "metadata": {
        "id": "I7IF-5N-3DwN"
      },
      "execution_count": 16,
      "outputs": []
    },
    {
      "cell_type": "code",
      "source": [
        "import sqlite3\n",
        "\n",
        "conn = sqlite3.connect('chinook.db')\n",
        "cursor = conn.cursor()\n",
        "cursor.execute(\"SELECT name FROM sqlite_master WHERE type='table';\")\n",
        "print(cursor.fetchall())"
      ],
      "metadata": {
        "colab": {
          "base_uri": "https://localhost:8080/"
        },
        "id": "UrxLoorV3GGd",
        "outputId": "b0e4313d-ee64-4c9e-ab16-14d78feea2ad"
      },
      "execution_count": 17,
      "outputs": [
        {
          "output_type": "stream",
          "name": "stdout",
          "text": [
            "[('Album',), ('Artist',), ('Customer',), ('Employee',), ('Genre',), ('Invoice',), ('InvoiceLine',), ('MediaType',), ('Playlist',), ('PlaylistTrack',), ('Track',)]\n"
          ]
        }
      ]
    },
    {
      "cell_type": "markdown",
      "source": [
        " Exercise 2: Table Names (using SQLAlchemy)"
      ],
      "metadata": {
        "id": "EeqwS57U3Obj"
      }
    },
    {
      "cell_type": "code",
      "source": [
        "import sqlalchemy\n",
        "from sqlalchemy.ext.automap import automap_base\n",
        "\n",
        "# Reflecting the DB schema\n",
        "metadata = sqlalchemy.MetaData()\n",
        "metadata.reflect(bind=engine)\n",
        "\n",
        "# Automapping the base\n",
        "Base = automap_base(metadata=metadata)\n",
        "Base.prepare()\n",
        "\n",
        "# All table names\n",
        "print(metadata.tables.keys())"
      ],
      "metadata": {
        "colab": {
          "base_uri": "https://localhost:8080/"
        },
        "id": "TZkwj7SM3QPf",
        "outputId": "eb12b080-38b0-4f08-ab5a-204344dce217"
      },
      "execution_count": 18,
      "outputs": [
        {
          "output_type": "stream",
          "name": "stdout",
          "text": [
            "dict_keys(['Album', 'Artist', 'Customer', 'Employee', 'Genre', 'Invoice', 'InvoiceLine', 'Track', 'MediaType', 'Playlist', 'PlaylistTrack'])\n"
          ]
        }
      ]
    },
    {
      "cell_type": "markdown",
      "source": [
        "Exercise 3: Print the First 3 Tracks"
      ],
      "metadata": {
        "id": "VnjVFiIU3d8o"
      }
    },
    {
      "cell_type": "code",
      "source": [
        "# Accessing the Track class\n",
        "Track = Base.classes.Track\n",
        "\n",
        "# Query of the first 3 tracks\n",
        "first_tracks = session.query(Track).limit(3).all()\n",
        "\n",
        "# Details\n",
        "for track in first_tracks:\n",
        "    print(f\"ID: {track.TrackId}, Name: {track.Name}, AlbumId: {track.AlbumId}\")"
      ],
      "metadata": {
        "colab": {
          "base_uri": "https://localhost:8080/"
        },
        "id": "LpXMjrDY3emf",
        "outputId": "9efb3751-6025-4042-ed8b-42aae76a4ee1"
      },
      "execution_count": 19,
      "outputs": [
        {
          "output_type": "stream",
          "name": "stdout",
          "text": [
            "ID: 1, Name: For Those About To Rock (We Salute You), AlbumId: 1\n",
            "ID: 2, Name: Balls to the Wall, AlbumId: 2\n",
            "ID: 3, Name: Fast As a Shark, AlbumId: 3\n"
          ]
        }
      ]
    },
    {
      "cell_type": "markdown",
      "source": [
        "Exercise 4: Track Name + Album Title for First 20 Tracks"
      ],
      "metadata": {
        "id": "YWr-GEK13sMF"
      }
    },
    {
      "cell_type": "code",
      "source": [
        "# Accessing the Album class\n",
        "Album = Base.classes.Album\n",
        "\n",
        "# Query and join of Track with Album\n",
        "results = (\n",
        "    session.query(Track.Name.label(\"Track Name\"), Album.Title.label(\"Album Title\"))\n",
        "    .join(Album, Track.AlbumId == Album.AlbumId)\n",
        "    .limit(20)\n",
        "    .all()\n",
        ")\n",
        "\n",
        "# Results\n",
        "for row in results:\n",
        "    print(f\"Track: {row[0]} | Album: {row[1]}\")"
      ],
      "metadata": {
        "colab": {
          "base_uri": "https://localhost:8080/"
        },
        "id": "A2U8bPE73syx",
        "outputId": "dc4e7849-5e6c-4fa0-85b4-eec47473dbcb"
      },
      "execution_count": 20,
      "outputs": [
        {
          "output_type": "stream",
          "name": "stdout",
          "text": [
            "Track: For Those About To Rock (We Salute You) | Album: For Those About To Rock We Salute You\n",
            "Track: Balls to the Wall | Album: Balls to the Wall\n",
            "Track: Fast As a Shark | Album: Restless and Wild\n",
            "Track: Restless and Wild | Album: Restless and Wild\n",
            "Track: Princess of the Dawn | Album: Restless and Wild\n",
            "Track: Put The Finger On You | Album: For Those About To Rock We Salute You\n",
            "Track: Let's Get It Up | Album: For Those About To Rock We Salute You\n",
            "Track: Inject The Venom | Album: For Those About To Rock We Salute You\n",
            "Track: Snowballed | Album: For Those About To Rock We Salute You\n",
            "Track: Evil Walks | Album: For Those About To Rock We Salute You\n",
            "Track: C.O.D. | Album: For Those About To Rock We Salute You\n",
            "Track: Breaking The Rules | Album: For Those About To Rock We Salute You\n",
            "Track: Night Of The Long Knives | Album: For Those About To Rock We Salute You\n",
            "Track: Spellbound | Album: For Those About To Rock We Salute You\n",
            "Track: Go Down | Album: Let There Be Rock\n",
            "Track: Dog Eat Dog | Album: Let There Be Rock\n",
            "Track: Let There Be Rock | Album: Let There Be Rock\n",
            "Track: Bad Boy Boogie | Album: Let There Be Rock\n",
            "Track: Problem Child | Album: Let There Be Rock\n",
            "Track: Overdose | Album: Let There Be Rock\n"
          ]
        }
      ]
    },
    {
      "cell_type": "markdown",
      "source": [
        "Exercise 5: Tracks Sold"
      ],
      "metadata": {
        "id": "od_c63yI383c"
      }
    },
    {
      "cell_type": "code",
      "source": [
        "# Access of the InvoiceLine table\n",
        "InvoiceLine = Base.classes.InvoiceLine\n",
        "\n",
        "# Query of first 10 sales and join with Track to get track name\n",
        "results = (\n",
        "    session.query(Track.Name, InvoiceLine.Quantity)\n",
        "    .join(InvoiceLine, Track.TrackId == InvoiceLine.TrackId)\n",
        "    .limit(10)\n",
        "    .all()\n",
        ")\n",
        "\n",
        "# Results\n",
        "for track_name, quantity in results:\n",
        "    print(f\"Track: {track_name} | Quantity Sold: {quantity}\")"
      ],
      "metadata": {
        "colab": {
          "base_uri": "https://localhost:8080/"
        },
        "id": "PWs1CBxa39lD",
        "outputId": "ccfc9762-6f04-4fd5-e94f-e5163a834906"
      },
      "execution_count": 21,
      "outputs": [
        {
          "output_type": "stream",
          "name": "stdout",
          "text": [
            "Track: Balls to the Wall | Quantity Sold: 1\n",
            "Track: Restless and Wild | Quantity Sold: 1\n",
            "Track: Put The Finger On You | Quantity Sold: 1\n",
            "Track: Inject The Venom | Quantity Sold: 1\n",
            "Track: Evil Walks | Quantity Sold: 1\n",
            "Track: Breaking The Rules | Quantity Sold: 1\n",
            "Track: Dog Eat Dog | Quantity Sold: 1\n",
            "Track: Overdose | Quantity Sold: 1\n",
            "Track: Love In An Elevator | Quantity Sold: 1\n",
            "Track: Janie's Got A Gun | Quantity Sold: 1\n"
          ]
        }
      ]
    },
    {
      "cell_type": "markdown",
      "source": [
        "Exercise 6: Top Tracks Sold."
      ],
      "metadata": {
        "id": "VAChMgUu4PfC"
      }
    },
    {
      "cell_type": "code",
      "source": [
        "from sqlalchemy import func\n",
        "\n",
        "# Aliases for convenience\n",
        "InvoiceLine = Base.classes.InvoiceLine\n",
        "Track = Base.classes.Track\n",
        "\n",
        "# Query top 10 tracks sold\n",
        "top_tracks_query = (\n",
        "    session.query(Track.Name, func.count(InvoiceLine.TrackId).label(\"sales_count\"))\n",
        "    .join(InvoiceLine, Track.TrackId == InvoiceLine.TrackId)\n",
        "    .group_by(Track.TrackId)\n",
        "    .order_by(func.count(InvoiceLine.TrackId).desc())\n",
        "    .limit(10)\n",
        ")\n",
        "\n",
        "# Results\n",
        "for track_name, count in top_tracks_query.all():\n",
        "    print(f\"Track: {track_name} | Times Sold: {count}\")"
      ],
      "metadata": {
        "colab": {
          "base_uri": "https://localhost:8080/"
        },
        "id": "-BwYHopw4QQu",
        "outputId": "9abb9e01-97d0-48b9-dda6-61c5d0ac7cf7"
      },
      "execution_count": 22,
      "outputs": [
        {
          "output_type": "stream",
          "name": "stdout",
          "text": [
            "Track: Balls to the Wall | Times Sold: 2\n",
            "Track: Inject The Venom | Times Sold: 2\n",
            "Track: Snowballed | Times Sold: 2\n",
            "Track: Overdose | Times Sold: 2\n",
            "Track: Deuces Are Wild | Times Sold: 2\n",
            "Track: Not The Doctor | Times Sold: 2\n",
            "Track: Por Causa De Você | Times Sold: 2\n",
            "Track: Welcome Home (Sanitarium) | Times Sold: 2\n",
            "Track: Snowblind | Times Sold: 2\n",
            "Track: Cornucopia | Times Sold: 2\n"
          ]
        }
      ]
    },
    {
      "cell_type": "markdown",
      "source": [
        "Exercise 7: Top Selling Artists"
      ],
      "metadata": {
        "id": "mCjrO0kC4Z6L"
      }
    },
    {
      "cell_type": "code",
      "source": [
        "# Class references\n",
        "InvoiceLine = Base.classes.InvoiceLine\n",
        "Track = Base.classes.Track\n",
        "Album = Base.classes.Album\n",
        "Artist = Base.classes.Artist\n",
        "\n",
        "# Query top 10 selling artists\n",
        "top_artists_query = (\n",
        "    session.query(Artist.Name, func.count(InvoiceLine.InvoiceLineId).label(\"sales_count\"))\n",
        "    .join(Album, Artist.ArtistId == Album.ArtistId)\n",
        "    .join(Track, Album.AlbumId == Track.AlbumId)\n",
        "    .join(InvoiceLine, Track.TrackId == InvoiceLine.TrackId)\n",
        "    .group_by(Artist.ArtistId)\n",
        "    .order_by(func.count(InvoiceLine.InvoiceLineId).desc())\n",
        "    .limit(10)\n",
        ")\n",
        "\n",
        "# Results\n",
        "for artist_name, sales in top_artists_query.all():\n",
        "    print(f\"Artist: {artist_name} | Total Sales: {sales}\")"
      ],
      "metadata": {
        "colab": {
          "base_uri": "https://localhost:8080/"
        },
        "id": "HwvKlqVB4akB",
        "outputId": "df626fab-8c99-43e6-d52b-4d79368757e1"
      },
      "execution_count": 23,
      "outputs": [
        {
          "output_type": "stream",
          "name": "stdout",
          "text": [
            "Artist: Iron Maiden | Total Sales: 140\n",
            "Artist: U2 | Total Sales: 107\n",
            "Artist: Metallica | Total Sales: 91\n",
            "Artist: Led Zeppelin | Total Sales: 87\n",
            "Artist: Os Paralamas Do Sucesso | Total Sales: 45\n",
            "Artist: Deep Purple | Total Sales: 44\n",
            "Artist: Faith No More | Total Sales: 42\n",
            "Artist: Lost | Total Sales: 41\n",
            "Artist: Eric Clapton | Total Sales: 40\n",
            "Artist: R.E.M. | Total Sales: 39\n"
          ]
        }
      ]
    }
  ]
}