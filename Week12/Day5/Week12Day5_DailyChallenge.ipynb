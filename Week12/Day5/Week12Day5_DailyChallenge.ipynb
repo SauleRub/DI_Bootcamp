{
  "nbformat": 4,
  "nbformat_minor": 0,
  "metadata": {
    "colab": {
      "provenance": [],
      "authorship_tag": "ABX9TyNTWgz2876meqXwP0w767ha",
      "include_colab_link": true
    },
    "kernelspec": {
      "name": "python3",
      "display_name": "Python 3"
    },
    "language_info": {
      "name": "python"
    }
  },
  "cells": [
    {
      "cell_type": "markdown",
      "metadata": {
        "id": "view-in-github",
        "colab_type": "text"
      },
      "source": [
        "<a href=\"https://colab.research.google.com/github/SauleRub/DI_Bootcamp/blob/main/Week12/Day5/Week12Day5_DailyChallenge.ipynb\" target=\"_parent\"><img src=\"https://colab.research.google.com/assets/colab-badge.svg\" alt=\"Open In Colab\"/></a>"
      ]
    },
    {
      "cell_type": "code",
      "execution_count": 1,
      "metadata": {
        "id": "19Wwz3NLjc1T"
      },
      "outputs": [],
      "source": [
        "from openpyxl import Workbook\n",
        "from openpyxl.styles import Font, PatternFill\n",
        "from openpyxl.utils import get_column_letter\n",
        "\n",
        "# Step 1: Create workbook and sheet\n",
        "wb = Workbook()\n",
        "ws = wb.active\n",
        "ws.title = \"Grades\"\n",
        "\n",
        "# Step 2: Data structure\n",
        "data = {\n",
        "    \"Joe\": {\"math\": 65, \"science\": 78, \"english\": 98, \"gym\": 89},\n",
        "    \"Bill\": {\"math\": 55, \"science\": 72, \"english\": 87, \"gym\": 95},\n",
        "    \"Tim\": {\"math\": 100, \"science\": 45, \"english\": 75, \"gym\": 92},\n",
        "    \"Sally\": {\"math\": 30, \"science\": 25, \"english\": 45, \"gym\": 100},\n",
        "    \"Jane\": {\"math\": 100, \"science\": 100, \"english\": 100, \"gym\": 60}\n",
        "}\n",
        "\n",
        "# Step 3: Write header\n",
        "headers = [\"Student\", \"Math\", \"Science\", \"English\", \"Gym\"]\n",
        "ws.append(headers)\n",
        "\n",
        "# Apply bold and color to header\n",
        "for col in range(1, len(headers)+1):\n",
        "    cell = ws.cell(row=1, column=col)\n",
        "    cell.font = Font(bold=True, color=\"FFFFFF\")\n",
        "    cell.fill = PatternFill(start_color=\"4F81BD\", end_color=\"4F81BD\", fill_type=\"solid\")\n",
        "\n",
        "# Step 4: Add student rows\n",
        "for student, grades in data.items():\n",
        "    row = [student] + list(grades.values())\n",
        "    ws.append(row)\n",
        "\n",
        "# Step 5: Add average formulas (last row)\n",
        "num_students = len(data)\n",
        "last_data_row = num_students + 1  # includes header row\n",
        "\n",
        "avg_row = last_data_row + 1\n",
        "ws.cell(row=avg_row, column=1).value = \"Average\"\n",
        "ws.cell(row=avg_row, column=1).font = Font(bold=True)\n",
        "\n",
        "# Loop through subject columns (B to E, or cols 2–5)\n",
        "for col in range(2, 6):\n",
        "    col_letter = get_column_letter(col)\n",
        "    formula = f\"=AVERAGE({col_letter}2:{col_letter}{last_data_row})\"\n",
        "    ws.cell(row=avg_row, column=col).value = formula\n",
        "\n",
        "# Step 6: Save the workbook\n",
        "wb.save(\"student_grades.xlsx\")"
      ]
    }
  ]
}